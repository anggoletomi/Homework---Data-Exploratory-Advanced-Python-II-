{
 "cells": [
  {
   "cell_type": "markdown",
   "id": "0885db60-eb7d-4d75-aec9-4519f57ba493",
   "metadata": {},
   "source": [
    "Name : Anggoletomi Marlis Putra\\\n",
    "Class : DigitalSkola - Data Engineer Batch 5\\\n",
    "Homework : Data Exploratory (Advanced Python II)\n",
    "\n",
    "Dataset yang digunakan berasal dari kaggle. Dataset mengenai 'Top 1000 TikTok Influencers Ranking/"
   ]
  },
  {
   "cell_type": "markdown",
   "id": "340f87a6-ee19-42ca-96f1-e9c4c85a7209",
   "metadata": {
    "tags": []
   },
   "source": [
    "# a. Introductory Details About Data"
   ]
  },
  {
   "cell_type": "code",
   "execution_count": 1,
   "id": "ba209eb8-9673-49ce-9996-41976d5ccf98",
   "metadata": {},
   "outputs": [
    {
     "data": {
      "text/html": [
       "<div>\n",
       "<style scoped>\n",
       "    .dataframe tbody tr th:only-of-type {\n",
       "        vertical-align: middle;\n",
       "    }\n",
       "\n",
       "    .dataframe tbody tr th {\n",
       "        vertical-align: top;\n",
       "    }\n",
       "\n",
       "    .dataframe thead th {\n",
       "        text-align: right;\n",
       "    }\n",
       "</style>\n",
       "<table border=\"1\" class=\"dataframe\">\n",
       "  <thead>\n",
       "    <tr style=\"text-align: right;\">\n",
       "      <th></th>\n",
       "      <th>Country</th>\n",
       "      <th>Rank</th>\n",
       "      <th>Account</th>\n",
       "      <th>Title</th>\n",
       "      <th>Link</th>\n",
       "      <th>Subscribers count</th>\n",
       "      <th>Views avg.</th>\n",
       "      <th>Likes avg.</th>\n",
       "      <th>Comments avg.</th>\n",
       "      <th>Shares avg.</th>\n",
       "      <th>Scraped</th>\n",
       "    </tr>\n",
       "  </thead>\n",
       "  <tbody>\n",
       "    <tr>\n",
       "      <th>0</th>\n",
       "      <td>All</td>\n",
       "      <td>1</td>\n",
       "      <td>billieeilish</td>\n",
       "      <td>BILLIE EILISH</td>\n",
       "      <td>https://www.tiktok.com/@billieeilish</td>\n",
       "      <td>41600000.0</td>\n",
       "      <td>95000000.0</td>\n",
       "      <td>18100000.0</td>\n",
       "      <td>151000.0</td>\n",
       "      <td>54800.0</td>\n",
       "      <td>2022-02-07 16:54:35.641971</td>\n",
       "    </tr>\n",
       "    <tr>\n",
       "      <th>1</th>\n",
       "      <td>All</td>\n",
       "      <td>2</td>\n",
       "      <td>badbunny</td>\n",
       "      <td>Bad Bunny</td>\n",
       "      <td>https://www.tiktok.com/@badbunny</td>\n",
       "      <td>13400000.0</td>\n",
       "      <td>33300000.0</td>\n",
       "      <td>7300000.0</td>\n",
       "      <td>101900.0</td>\n",
       "      <td>106800.0</td>\n",
       "      <td>2022-02-07 16:54:35.641971</td>\n",
       "    </tr>\n",
       "    <tr>\n",
       "      <th>2</th>\n",
       "      <td>All</td>\n",
       "      <td>3</td>\n",
       "      <td>chipmunksoftiktok</td>\n",
       "      <td>Chipmunks of TikTok</td>\n",
       "      <td>https://www.tiktok.com/@chipmunksoftiktok</td>\n",
       "      <td>11400000.0</td>\n",
       "      <td>25000000.0</td>\n",
       "      <td>3000000.0</td>\n",
       "      <td>21800.0</td>\n",
       "      <td>64200.0</td>\n",
       "      <td>2022-02-07 16:54:35.641971</td>\n",
       "    </tr>\n",
       "    <tr>\n",
       "      <th>3</th>\n",
       "      <td>All</td>\n",
       "      <td>4</td>\n",
       "      <td>charlidamelio</td>\n",
       "      <td>charli d’amelio</td>\n",
       "      <td>https://www.tiktok.com/@charlidamelio</td>\n",
       "      <td>135400000.0</td>\n",
       "      <td>18700000.0</td>\n",
       "      <td>2600000.0</td>\n",
       "      <td>54700.0</td>\n",
       "      <td>35200.0</td>\n",
       "      <td>2022-02-07 16:54:35.641971</td>\n",
       "    </tr>\n",
       "    <tr>\n",
       "      <th>4</th>\n",
       "      <td>All</td>\n",
       "      <td>5</td>\n",
       "      <td>yessicadcs</td>\n",
       "      <td>Yessica y Moises 🦜</td>\n",
       "      <td>https://www.tiktok.com/@yessicadcs</td>\n",
       "      <td>263700.0</td>\n",
       "      <td>16700000.0</td>\n",
       "      <td>1400000.0</td>\n",
       "      <td>16200.0</td>\n",
       "      <td>138400.0</td>\n",
       "      <td>2022-02-07 16:54:35.641971</td>\n",
       "    </tr>\n",
       "  </tbody>\n",
       "</table>\n",
       "</div>"
      ],
      "text/plain": [
       "  Country  Rank            Account                Title  \\\n",
       "0     All     1       billieeilish        BILLIE EILISH   \n",
       "1     All     2           badbunny            Bad Bunny   \n",
       "2     All     3  chipmunksoftiktok  Chipmunks of TikTok   \n",
       "3     All     4      charlidamelio      charli d’amelio   \n",
       "4     All     5         yessicadcs   Yessica y Moises 🦜   \n",
       "\n",
       "                                        Link  Subscribers count  Views avg.  \\\n",
       "0       https://www.tiktok.com/@billieeilish         41600000.0  95000000.0   \n",
       "1           https://www.tiktok.com/@badbunny         13400000.0  33300000.0   \n",
       "2  https://www.tiktok.com/@chipmunksoftiktok         11400000.0  25000000.0   \n",
       "3      https://www.tiktok.com/@charlidamelio        135400000.0  18700000.0   \n",
       "4         https://www.tiktok.com/@yessicadcs           263700.0  16700000.0   \n",
       "\n",
       "   Likes avg.  Comments avg.  Shares avg.                     Scraped  \n",
       "0  18100000.0       151000.0      54800.0  2022-02-07 16:54:35.641971  \n",
       "1   7300000.0       101900.0     106800.0  2022-02-07 16:54:35.641971  \n",
       "2   3000000.0        21800.0      64200.0  2022-02-07 16:54:35.641971  \n",
       "3   2600000.0        54700.0      35200.0  2022-02-07 16:54:35.641971  \n",
       "4   1400000.0        16200.0     138400.0  2022-02-07 16:54:35.641971  "
      ]
     },
     "execution_count": 1,
     "metadata": {},
     "output_type": "execute_result"
    }
   ],
   "source": [
    "import pandas as pd\n",
    "import numpy as np\n",
    "import seaborn as sns\n",
    "import matplotlib.pyplot as plt\n",
    "\n",
    "df = pd.read_csv('C:/Users/anggo/Desktop/tiktok_top_1000.csv')\n",
    "\n",
    "df.head()"
   ]
  },
  {
   "cell_type": "code",
   "execution_count": 2,
   "id": "2c580ee3-b2f2-4a49-bd26-ebf6c13ebf1b",
   "metadata": {},
   "outputs": [
    {
     "name": "stdout",
     "output_type": "stream",
     "text": [
      "<class 'pandas.core.frame.DataFrame'>\n",
      "RangeIndex: 1000 entries, 0 to 999\n",
      "Data columns (total 11 columns):\n",
      " #   Column             Non-Null Count  Dtype  \n",
      "---  ------             --------------  -----  \n",
      " 0   Country            1000 non-null   object \n",
      " 1   Rank               1000 non-null   int64  \n",
      " 2   Account            1000 non-null   object \n",
      " 3   Title              998 non-null    object \n",
      " 4   Link               1000 non-null   object \n",
      " 5   Subscribers count  1000 non-null   float64\n",
      " 6   Views avg.         1000 non-null   float64\n",
      " 7   Likes avg.         1000 non-null   float64\n",
      " 8   Comments avg.      1000 non-null   float64\n",
      " 9   Shares avg.        1000 non-null   float64\n",
      " 10  Scraped            1000 non-null   object \n",
      "dtypes: float64(5), int64(1), object(5)\n",
      "memory usage: 86.1+ KB\n"
     ]
    }
   ],
   "source": [
    "df.info()"
   ]
  },
  {
   "cell_type": "markdown",
   "id": "2b0ead5c-8d39-4d11-8e13-ea9ed3f30d22",
   "metadata": {},
   "source": [
    "# b. Statistical Insight"
   ]
  },
  {
   "cell_type": "code",
   "execution_count": 3,
   "id": "4979bb5c-efd3-4ee7-a3c8-4f6954f0bb5b",
   "metadata": {},
   "outputs": [
    {
     "data": {
      "text/html": [
       "<div>\n",
       "<style scoped>\n",
       "    .dataframe tbody tr th:only-of-type {\n",
       "        vertical-align: middle;\n",
       "    }\n",
       "\n",
       "    .dataframe tbody tr th {\n",
       "        vertical-align: top;\n",
       "    }\n",
       "\n",
       "    .dataframe thead th {\n",
       "        text-align: right;\n",
       "    }\n",
       "</style>\n",
       "<table border=\"1\" class=\"dataframe\">\n",
       "  <thead>\n",
       "    <tr style=\"text-align: right;\">\n",
       "      <th></th>\n",
       "      <th>Rank</th>\n",
       "      <th>Subscribers count</th>\n",
       "      <th>Views avg.</th>\n",
       "      <th>Likes avg.</th>\n",
       "      <th>Comments avg.</th>\n",
       "      <th>Shares avg.</th>\n",
       "    </tr>\n",
       "  </thead>\n",
       "  <tbody>\n",
       "    <tr>\n",
       "      <th>count</th>\n",
       "      <td>1000.000000</td>\n",
       "      <td>1.000000e+03</td>\n",
       "      <td>1.000000e+03</td>\n",
       "      <td>1.000000e+03</td>\n",
       "      <td>1000.000000</td>\n",
       "      <td>1.000000e+03</td>\n",
       "    </tr>\n",
       "    <tr>\n",
       "      <th>mean</th>\n",
       "      <td>500.500000</td>\n",
       "      <td>7.049170e+06</td>\n",
       "      <td>3.700866e+06</td>\n",
       "      <td>4.537407e+05</td>\n",
       "      <td>4559.051000</td>\n",
       "      <td>1.068108e+04</td>\n",
       "    </tr>\n",
       "    <tr>\n",
       "      <th>std</th>\n",
       "      <td>288.819436</td>\n",
       "      <td>1.087267e+07</td>\n",
       "      <td>4.697164e+06</td>\n",
       "      <td>6.964760e+05</td>\n",
       "      <td>7766.145534</td>\n",
       "      <td>1.677724e+05</td>\n",
       "    </tr>\n",
       "    <tr>\n",
       "      <th>min</th>\n",
       "      <td>1.000000</td>\n",
       "      <td>4.300000e+03</td>\n",
       "      <td>5.853000e+05</td>\n",
       "      <td>3.100000e+04</td>\n",
       "      <td>0.000000</td>\n",
       "      <td>2.120000e+02</td>\n",
       "    </tr>\n",
       "    <tr>\n",
       "      <th>25%</th>\n",
       "      <td>250.750000</td>\n",
       "      <td>1.400000e+06</td>\n",
       "      <td>1.800000e+06</td>\n",
       "      <td>2.304500e+05</td>\n",
       "      <td>1600.000000</td>\n",
       "      <td>1.200000e+03</td>\n",
       "    </tr>\n",
       "    <tr>\n",
       "      <th>50%</th>\n",
       "      <td>500.500000</td>\n",
       "      <td>3.700000e+06</td>\n",
       "      <td>2.600000e+06</td>\n",
       "      <td>3.202000e+05</td>\n",
       "      <td>2800.000000</td>\n",
       "      <td>2.400000e+03</td>\n",
       "    </tr>\n",
       "    <tr>\n",
       "      <th>75%</th>\n",
       "      <td>750.250000</td>\n",
       "      <td>8.625000e+06</td>\n",
       "      <td>4.000000e+06</td>\n",
       "      <td>4.783750e+05</td>\n",
       "      <td>4900.000000</td>\n",
       "      <td>5.400000e+03</td>\n",
       "    </tr>\n",
       "    <tr>\n",
       "      <th>max</th>\n",
       "      <td>1000.000000</td>\n",
       "      <td>1.354000e+08</td>\n",
       "      <td>9.500000e+07</td>\n",
       "      <td>1.810000e+07</td>\n",
       "      <td>151000.000000</td>\n",
       "      <td>5.300000e+06</td>\n",
       "    </tr>\n",
       "  </tbody>\n",
       "</table>\n",
       "</div>"
      ],
      "text/plain": [
       "              Rank  Subscribers count    Views avg.    Likes avg.  \\\n",
       "count  1000.000000       1.000000e+03  1.000000e+03  1.000000e+03   \n",
       "mean    500.500000       7.049170e+06  3.700866e+06  4.537407e+05   \n",
       "std     288.819436       1.087267e+07  4.697164e+06  6.964760e+05   \n",
       "min       1.000000       4.300000e+03  5.853000e+05  3.100000e+04   \n",
       "25%     250.750000       1.400000e+06  1.800000e+06  2.304500e+05   \n",
       "50%     500.500000       3.700000e+06  2.600000e+06  3.202000e+05   \n",
       "75%     750.250000       8.625000e+06  4.000000e+06  4.783750e+05   \n",
       "max    1000.000000       1.354000e+08  9.500000e+07  1.810000e+07   \n",
       "\n",
       "       Comments avg.   Shares avg.  \n",
       "count    1000.000000  1.000000e+03  \n",
       "mean     4559.051000  1.068108e+04  \n",
       "std      7766.145534  1.677724e+05  \n",
       "min         0.000000  2.120000e+02  \n",
       "25%      1600.000000  1.200000e+03  \n",
       "50%      2800.000000  2.400000e+03  \n",
       "75%      4900.000000  5.400000e+03  \n",
       "max    151000.000000  5.300000e+06  "
      ]
     },
     "execution_count": 3,
     "metadata": {},
     "output_type": "execute_result"
    }
   ],
   "source": [
    "df.describe()"
   ]
  },
  {
   "cell_type": "markdown",
   "id": "86ab1d21-e6c5-42eb-b790-26a2168bb645",
   "metadata": {},
   "source": [
    "# c. Data Cleaning"
   ]
  },
  {
   "cell_type": "markdown",
   "id": "4ebe4bc7-bc43-4d36-acdb-7099ef6d16c3",
   "metadata": {},
   "source": [
    "## Handling Missing Data"
   ]
  },
  {
   "cell_type": "code",
   "execution_count": 4,
   "id": "b09cc2c5-9a28-4c4a-a8ec-1bace8c54b18",
   "metadata": {},
   "outputs": [
    {
     "data": {
      "text/plain": [
       "Country              0\n",
       "Rank                 0\n",
       "Account              0\n",
       "Title                2\n",
       "Link                 0\n",
       "Subscribers count    0\n",
       "Views avg.           0\n",
       "Likes avg.           0\n",
       "Comments avg.        0\n",
       "Shares avg.          0\n",
       "Scraped              0\n",
       "dtype: int64"
      ]
     },
     "execution_count": 4,
     "metadata": {},
     "output_type": "execute_result"
    }
   ],
   "source": [
    "#Check missing data\n",
    "\n",
    "df.isna().sum()"
   ]
  },
  {
   "cell_type": "code",
   "execution_count": 5,
   "id": "047dad23-badf-4d42-9ee6-656117232030",
   "metadata": {},
   "outputs": [
    {
     "name": "stdout",
     "output_type": "stream",
     "text": [
      "<class 'pandas.core.frame.DataFrame'>\n",
      "Int64Index: 998 entries, 0 to 999\n",
      "Data columns (total 11 columns):\n",
      " #   Column             Non-Null Count  Dtype  \n",
      "---  ------             --------------  -----  \n",
      " 0   Country            998 non-null    object \n",
      " 1   Rank               998 non-null    int64  \n",
      " 2   Account            998 non-null    object \n",
      " 3   Title              998 non-null    object \n",
      " 4   Link               998 non-null    object \n",
      " 5   Subscribers count  998 non-null    float64\n",
      " 6   Views avg.         998 non-null    float64\n",
      " 7   Likes avg.         998 non-null    float64\n",
      " 8   Comments avg.      998 non-null    float64\n",
      " 9   Shares avg.        998 non-null    float64\n",
      " 10  Scraped            998 non-null    object \n",
      "dtypes: float64(5), int64(1), object(5)\n",
      "memory usage: 93.6+ KB\n"
     ]
    }
   ],
   "source": [
    "# data yang hilang pada kolomn title sangat sedikit, hanya 2 row diantara 1000 row (0.2%) sehingga tidak masalah jika kita drop\n",
    "\n",
    "df.dropna(inplace=True)\n",
    "\n",
    "df.info()"
   ]
  },
  {
   "cell_type": "markdown",
   "id": "aab8ec4f-3b54-4b2c-a3f8-4f2cceff0a63",
   "metadata": {},
   "source": [
    "## Handling Duplicate Data"
   ]
  },
  {
   "cell_type": "code",
   "execution_count": 6,
   "id": "c32d7db1-ece2-45a6-aa1b-bd6821092733",
   "metadata": {},
   "outputs": [
    {
     "data": {
      "text/plain": [
       "0"
      ]
     },
     "execution_count": 6,
     "metadata": {},
     "output_type": "execute_result"
    }
   ],
   "source": [
    "df.duplicated().sum()\n",
    "\n",
    "#tidak ditemukan data yang duplikat"
   ]
  },
  {
   "cell_type": "markdown",
   "id": "f34d1dcc-f674-4b2b-8041-74a59cb8f280",
   "metadata": {},
   "source": [
    "# d. Data Visualization"
   ]
  },
  {
   "cell_type": "code",
   "execution_count": 7,
   "id": "c0e14ca8-bd56-41f7-aada-f5305cf8bd81",
   "metadata": {},
   "outputs": [
    {
     "data": {
      "image/png": "[encoded data removed]",
      "text/plain": [
       "<Figure size 1008x360 with 1 Axes>"
      ]
     },
     "metadata": {
      "needs_background": "light"
     },
     "output_type": "display_data"
    }
   ],
   "source": [
    "#Top 10 Subscribers\n",
    "\n",
    "df_top10_subs = df.sort_values(['Subscribers count'],ascending=False).head(10).reset_index()\n",
    "\n",
    "plt.figure(figsize=(14,5))\n",
    "sns.barplot(x = 'Subscribers count', y = 'Account', data = df_top10_subs)\n",
    "plt.title('Top 10 Account Based on Subscribers',fontsize=20, pad=10)\n",
    "plt.xlabel('Total Subscribers',fontsize=12,labelpad=10)\n",
    "plt.ylabel('Account Name',fontsize=12,labelpad=10)\n",
    "plt.show()"
   ]
  },
  {
   "cell_type": "code",
   "execution_count": 8,
   "id": "689c1e2b-aa31-4faf-a2ba-c9790f433d4f",
   "metadata": {},
   "outputs": [
    {
     "data": {
      "image/png": "[encoded data removed]",
      "text/plain": [
       "<Figure size 1080x360 with 1 Axes>"
      ]
     },
     "metadata": {
      "needs_background": "light"
     },
     "output_type": "display_data"
    }
   ],
   "source": [
    "#Top 10 Account with Most Likes\n",
    "\n",
    "df_top10_likes = df.sort_values(['Likes avg.'],ascending=False).head(10).reset_index()\n",
    "\n",
    "plt.figure(figsize = (15,5))\n",
    "plt.bar(x=df_top10_likes['Account'],height=df_top10_likes['Likes avg.'], color = ('b'))\n",
    "plt.title('Top 10 Account with Most Avg. Likes',fontsize=20, pad=10)\n",
    "plt.xlabel('Account Name',fontsize=12,labelpad=10)\n",
    "plt.ylabel('Avg. Likes',fontsize=12,labelpad=10)\n",
    "plt.show()"
   ]
  }
 ],
 "metadata": {
  "kernelspec": {
   "display_name": "Python 3 (ipykernel)",
   "language": "python",
   "name": "python3"
  },
  "language_info": {
   "codemirror_mode": {
    "name": "ipython",
    "version": 3
   },
   "file_extension": ".py",
   "mimetype": "text/x-python",
   "name": "python",
   "nbconvert_exporter": "python",
   "pygments_lexer": "ipython3",
   "version": "3.9.7"
  }
 },
 "nbformat": 4,
 "nbformat_minor": 5
}
